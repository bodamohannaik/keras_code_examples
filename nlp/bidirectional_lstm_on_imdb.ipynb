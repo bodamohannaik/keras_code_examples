{
  "nbformat": 4,
  "nbformat_minor": 0,
  "metadata": {
    "colab": {
      "name": "bidirectional_lstm_on_imdb.ipynb",
      "provenance": [],
      "collapsed_sections": [],
      "authorship_tag": "ABX9TyO/feIuEc6eHreNxmX4YeFM",
      "include_colab_link": true
    },
    "kernelspec": {
      "name": "python3",
      "display_name": "Python 3"
    },
    "language_info": {
      "name": "python"
    },
    "accelerator": "GPU"
  },
  "cells": [
    {
      "cell_type": "markdown",
      "metadata": {
        "id": "view-in-github",
        "colab_type": "text"
      },
      "source": [
        "<a href=\"https://colab.research.google.com/github/bodamohannaik/keras_code_examples/blob/master/nlp/bidirectional_lstm_on_imdb.ipynb\" target=\"_parent\"><img src=\"https://colab.research.google.com/assets/colab-badge.svg\" alt=\"Open In Colab\"/></a>"
      ]
    },
    {
      "cell_type": "markdown",
      "source": [
        "# Import Libraries"
      ],
      "metadata": {
        "id": "eQ5DDGebw60Y"
      }
    },
    {
      "cell_type": "code",
      "source": [
        "import matplotlib.pyplot as plt\n",
        "import numpy as np\n",
        "import os\n",
        "import pandas as pd\n",
        "import re\n",
        "import string\n",
        "import tensorflow as tf"
      ],
      "metadata": {
        "id": "JVI-mpZ9w-zG"
      },
      "execution_count": 1,
      "outputs": []
    },
    {
      "cell_type": "markdown",
      "source": [
        "# Load IMDB movie reviews"
      ],
      "metadata": {
        "id": "m4q7c9-kz9jn"
      }
    },
    {
      "cell_type": "code",
      "source": [
        "(features_train, labels_train), (features_test, labels_test) = tf.keras.datasets.imdb.load_data(num_words = 20000, maxlen = 500)\n",
        "features_train = tf.keras.preprocessing.sequence.pad_sequences(features_train, maxlen =500, padding='post', truncating='post')\n",
        "features_test = tf.keras.preprocessing.sequence.pad_sequences(features_test, maxlen =500, padding='post', truncating='post')\n",
        "print(f\"Train featues shape: {features_train.shape}, labels: {labels_train.shape} \")\n",
        "print(f\"Test featues shape: {features_test.shape}, labels: {labels_test.shape} \")"
      ],
      "metadata": {
        "colab": {
          "base_uri": "https://localhost:8080/"
        },
        "id": "wI03bDenz2_A",
        "outputId": "a48d19dc-b749-44fa-cf0f-f2627219e6f4"
      },
      "execution_count": 2,
      "outputs": [
        {
          "output_type": "stream",
          "name": "stdout",
          "text": [
            "Downloading data from https://storage.googleapis.com/tensorflow/tf-keras-datasets/imdb.npz\n",
            "17465344/17464789 [==============================] - 0s 0us/step\n",
            "17473536/17464789 [==============================] - 0s 0us/step\n",
            "Train featues shape: (22882, 500), labels: (22882,) \n",
            "Test featues shape: (23065, 500), labels: (23065,) \n"
          ]
        }
      ]
    },
    {
      "cell_type": "code",
      "source": [
        "features_train"
      ],
      "metadata": {
        "colab": {
          "base_uri": "https://localhost:8080/"
        },
        "id": "pMzBfNzYbud3",
        "outputId": "a215e7e4-66e3-4c97-ec18-834bb29f6357"
      },
      "execution_count": 3,
      "outputs": [
        {
          "output_type": "execute_result",
          "data": {
            "text/plain": [
              "array([[   1,   14,   22, ...,    0,    0,    0],\n",
              "       [   1,  194, 1153, ...,    0,    0,    0],\n",
              "       [   1,   14,   47, ...,    0,    0,    0],\n",
              "       ...,\n",
              "       [   1,   11,    6, ...,    0,    0,    0],\n",
              "       [   1, 1446, 7079, ...,    0,    0,    0],\n",
              "       [   1,   17,    6, ...,    0,    0,    0]], dtype=int32)"
            ]
          },
          "metadata": {},
          "execution_count": 3
        }
      ]
    },
    {
      "cell_type": "markdown",
      "source": [
        "# Model"
      ],
      "metadata": {
        "id": "0g5DnOEKgJNT"
      }
    },
    {
      "cell_type": "code",
      "source": [
        "inputs = tf.keras.layers.Input(shape = (500,))\n",
        "# embedding\n",
        "x = tf.keras.layers.Embedding(input_dim=20000, output_dim=128)(inputs)\n",
        "# Bi-directional LSTM\n",
        "x = tf.keras.layers.Bidirectional(layer = tf.keras.layers.LSTM(units = 32, return_sequences=True))(x)\n",
        "x = tf.keras.layers.Dropout(rate = 0.2)(x)\n",
        "# Bi-directional LSTM\n",
        "x = tf.keras.layers.Bidirectional(layer = tf.keras.layers.LSTM(units = 32))(x)\n",
        "x = tf.keras.layers.Dropout(rate = 0.2)(x)\n",
        "# Dense\n",
        "x = tf.keras.layers.Dense(units =1, activation ='sigmoid')(x)\n",
        "# Model\n",
        "model = tf.keras.Model(inputs = inputs, outputs =x)\n",
        "model.summary()"
      ],
      "metadata": {
        "colab": {
          "base_uri": "https://localhost:8080/"
        },
        "id": "fFykWXcNfc0n",
        "outputId": "19283e53-f40b-4057-9f74-b5c63fdc2d86"
      },
      "execution_count": 4,
      "outputs": [
        {
          "output_type": "stream",
          "name": "stdout",
          "text": [
            "Model: \"model\"\n",
            "_________________________________________________________________\n",
            " Layer (type)                Output Shape              Param #   \n",
            "=================================================================\n",
            " input_1 (InputLayer)        [(None, 500)]             0         \n",
            "                                                                 \n",
            " embedding (Embedding)       (None, 500, 128)          2560000   \n",
            "                                                                 \n",
            " bidirectional (Bidirectiona  (None, 500, 64)          41216     \n",
            " l)                                                              \n",
            "                                                                 \n",
            " dropout (Dropout)           (None, 500, 64)           0         \n",
            "                                                                 \n",
            " bidirectional_1 (Bidirectio  (None, 64)               24832     \n",
            " nal)                                                            \n",
            "                                                                 \n",
            " dropout_1 (Dropout)         (None, 64)                0         \n",
            "                                                                 \n",
            " dense (Dense)               (None, 1)                 65        \n",
            "                                                                 \n",
            "=================================================================\n",
            "Total params: 2,626,113\n",
            "Trainable params: 2,626,113\n",
            "Non-trainable params: 0\n",
            "_________________________________________________________________\n"
          ]
        }
      ]
    },
    {
      "cell_type": "code",
      "source": [
        "model.compile(optimizer ='adam', loss ='binary_crossentropy', metrics =['accuracy'])"
      ],
      "metadata": {
        "id": "0rIvoFgjihix"
      },
      "execution_count": 5,
      "outputs": []
    },
    {
      "cell_type": "code",
      "source": [
        "model.fit(features_train, labels_train, epochs =5, validation_data=(features_test, labels_test), batch_size =32)"
      ],
      "metadata": {
        "colab": {
          "base_uri": "https://localhost:8080/"
        },
        "id": "lYye3Uhfip8R",
        "outputId": "47534e0a-6928-4dc5-a5b2-f29a7212d96b"
      },
      "execution_count": 6,
      "outputs": [
        {
          "output_type": "stream",
          "name": "stdout",
          "text": [
            "Epoch 1/5\n",
            "716/716 [==============================] - 70s 84ms/step - loss: 0.4318 - accuracy: 0.8031 - val_loss: 0.3426 - val_accuracy: 0.8663\n",
            "Epoch 2/5\n",
            "716/716 [==============================] - 58s 81ms/step - loss: 0.2379 - accuracy: 0.9143 - val_loss: 0.4098 - val_accuracy: 0.8519\n",
            "Epoch 3/5\n",
            "716/716 [==============================] - 58s 81ms/step - loss: 0.1803 - accuracy: 0.9360 - val_loss: 0.4177 - val_accuracy: 0.8252\n",
            "Epoch 4/5\n",
            "716/716 [==============================] - 58s 81ms/step - loss: 0.2376 - accuracy: 0.9058 - val_loss: 0.4243 - val_accuracy: 0.8361\n",
            "Epoch 5/5\n",
            "716/716 [==============================] - 57s 80ms/step - loss: 0.2285 - accuracy: 0.9144 - val_loss: 0.4350 - val_accuracy: 0.8392\n"
          ]
        },
        {
          "output_type": "execute_result",
          "data": {
            "text/plain": [
              "<keras.callbacks.History at 0x7fcb54b11350>"
            ]
          },
          "metadata": {},
          "execution_count": 6
        }
      ]
    }
  ]
}